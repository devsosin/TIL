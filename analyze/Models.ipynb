{
 "cells": [
  {
   "cell_type": "code",
   "execution_count": 9,
   "metadata": {},
   "outputs": [],
   "source": [
    "from sklearn.model_selection import train_test_split\n",
    "\n",
    "# X = [1,2,3,4]\n",
    "# y = [1,2,3,4]\n",
    "\n",
    "train_X, test_X, train_y, test_y = train_test_split(X, y, shuffle=True, test_size = 0.2, random_state = 10)"
   ]
  },
  {
   "cell_type": "code",
   "execution_count": 7,
   "metadata": {},
   "outputs": [],
   "source": [
    "# Linear Regression\n",
    "from sklearn.linear_model import LinearRegression \n",
    "reg = LinearRegression().fit(train_X, train_y) \n",
    "reg.score(train_X, train_y) \n",
    "reg.coef_ \n",
    "reg.intercept_ \n",
    "reg.predict(test_X) \n",
    "\n",
    "from sklearn.linear_model import Ridge \n",
    "rid = Ridge(alpha=1.0).fit(X, y)\n",
    "from sklearn.linear_model import Lasso \n",
    "las = Lasso(alpha=1.0).fit(X, y)\n",
    "from sklearn.linear_model import ElasticNet \n",
    "ela = ElasticNet(l1_ratio=0.5).fit(X, y)\n"
   ]
  },
  {
   "cell_type": "code",
   "execution_count": null,
   "metadata": {},
   "outputs": [],
   "source": [
    "#Logistic Regression \n",
    "from sklearn.linear_model import LogisticRegression \n",
    "lgr = LogsticRegression().fit(train_X, train_y) \n",
    "lgr.Score(train_X, train_y)\n",
    "lgr.predict(test_X) \n",
    "lgr.predict_proba(test_X) "
   ]
  },
  {
   "cell_type": "code",
   "execution_count": null,
   "metadata": {},
   "outputs": [],
   "source": [
    "# Decision Tree Ensemble\n",
    "\n",
    "from sklearn.tree import DecisionTreeClassifier\n",
    "from sklearn.tree import DecisionTreeRegressor\n",
    "\n",
    "from sklearn.ensemble import RandomForestClassifier\n",
    "rfc = RandomForestClassifier(n_estimators=10, max_depth=2).fit(train_X, train_y)\n",
    "from sklearn.ensemble import RandomForestRegressor\n",
    "rfc = RandomForestRegressor(DecisionTreeRegressor(max_depth=2), n_estimators=10).fit(train_X, train_y)\n",
    "\n",
    "from sklearn.ensemble import AdaBoostClassifier\n",
    "adb = AdaBoostClassifier(n_estimators=10, max_depth=2).fit(train_X, train_y)\n",
    "from sklearn.ensemble import AdaBoostRegressor\n",
    "adb = AdaBoostRegressor(DecisionTreeRegressor(max_depth=2), n_estimators=10).fit(train_X, train_y)\n",
    "\n",
    "from sklearn.ensemble import GradientBoostingClassifier\n",
    "grb = GradientBoostingClassifier(n_estimators=10, max_depth=2).fit(train_X, train_y)\n",
    "from sklearn.ensemble import GradientBoostingRegressor\n",
    "grb = GradientBoostingRegressor(DecisionTreeRegressor(max_depth=2), n_estimators=10).fit(train_X, train_y)"
   ]
  },
  {
   "cell_type": "code",
   "execution_count": null,
   "metadata": {},
   "outputs": [],
   "source": []
  },
  {
   "cell_type": "code",
   "execution_count": null,
   "metadata": {},
   "outputs": [],
   "source": []
  }
 ],
 "metadata": {
  "kernelspec": {
   "display_name": "Python 3",
   "language": "python",
   "name": "python3"
  },
  "language_info": {
   "codemirror_mode": {
    "name": "ipython",
    "version": 3
   },
   "file_extension": ".py",
   "mimetype": "text/x-python",
   "name": "python",
   "nbconvert_exporter": "python",
   "pygments_lexer": "ipython3",
   "version": "3.7.6"
  }
 },
 "nbformat": 4,
 "nbformat_minor": 4
}
