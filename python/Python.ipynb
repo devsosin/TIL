{
 "cells": [
  {
   "cell_type": "markdown",
   "metadata": {},
   "source": [
    "# Python Code"
   ]
  },
  {
   "cell_type": "markdown",
   "metadata": {},
   "source": [
    "## str fuction"
   ]
  },
  {
   "cell_type": "code",
   "execution_count": 3,
   "metadata": {},
   "outputs": [],
   "source": [
    "#문자열함수\n",
    "str.find('찾는 문자', start, end) # return = index\n",
    "str.count('찾는 문자', start, end) # return = 개수\n",
    "str.startswith('문자',start, end) # return = bool\n",
    "str.endswith('문자', start, end) # return = bool\n",
    "\n",
    "str.replace(old, new, count)\n",
    "\n",
    "# 문자열 확인 return = bool\n",
    "str.isalpha() # 숫자, 특수문자, 공백 제외 문자만 true\n",
    "str.isdigit() # 숫자로 구성되어있을 때 .isdecimal()과 차이?\n",
    ".isalnum() # 문자, 숫자\n",
    ".isdecimal() # 정수\n",
    ".isspace()\n",
    ".issuper()\n",
    ".islower()\n",
    "\n",
    "print(\"3.14\".isalnum())\n",
    "\n",
    "#출력형식 지정\n",
    "# {:2d}, {:05d}, {:>5d}, {:.3f}, {:,}, {:.1%}, {:.2e}, {:x}#16 #있으면 0x, {:o}#8 #있으면 0o, {:b}#2 #있으면 0b\n",
    "\n",
    "a = 14\n",
    "print(\"{:#x}\".format(a))\n",
    "print(\"{:x}\".format(a))"
   ]
  },
  {
   "cell_type": "markdown",
   "metadata": {},
   "source": [
    "## etc."
   ]
  },
  {
   "cell_type": "code",
   "execution_count": null,
   "metadata": {},
   "outputs": [],
   "source": [
    "#zip 함수\n",
    "list1 = [\"a\", \"b\", \"c\"]\n",
    "list2 = [1, 2, 3]\n",
    "print(list(zip(list1, list2))) #두 리스트의 길이가 같아야함\n",
    "print(dict(zip(list1,list2)))"
   ]
  },
  {
   "cell_type": "code",
   "execution_count": null,
   "metadata": {},
   "outputs": [],
   "source": []
  },
  {
   "cell_type": "markdown",
   "metadata": {},
   "source": [
    "## Lambda"
   ]
  },
  {
   "cell_type": "code",
   "execution_count": 5,
   "metadata": {},
   "outputs": [],
   "source": [
    "#lambda\n",
    "\n",
    "(lambda x: print(x**2)) (2) #lambda 함수를 괄호안에 넣어줘야함, 인자 여러개 사용가능\n",
    "\n",
    "a = lambda x: x**2\n",
    "print(a(2))\n",
    "\n",
    "numbers = [12, 32, 55, 12, 32, 4, 86, 50]\n",
    "list(map(lambda a : \"합격\" if a > 60 else \"대기\" if a > 50 else \"불합격\", numbers))\n",
    "\n",
    "files =[\"memo.txt\",\"1.jpg\",\"32.png\",\"23.jpg\",\"223.jpg\"]\n",
    "list(filter((lambda a : a.count(\"jpg\") > 0), files))\n",
    "\n",
    "# 본문에 삼성전자 글자가 있는 애들만 출력\n",
    "# pddf['본문']을 n에다가 넣어줌\n",
    "pddf[pddf['본문'].apply(lambda n: '삼성전자' in str(n))].groupby('날짜').count()\n"
   ]
  },
  {
   "cell_type": "code",
   "execution_count": null,
   "metadata": {},
   "outputs": [],
   "source": []
  },
  {
   "cell_type": "code",
   "execution_count": null,
   "metadata": {},
   "outputs": [],
   "source": [
    "# 예외처리코드\n",
    "\n",
    "try:\n",
    "    raise Exception(\"예외강제발생\")\n",
    "except Exception as e:\n",
    "    print(\"예외발생\",\"예외코드:\", e)"
   ]
  },
  {
   "cell_type": "markdown",
   "metadata": {},
   "source": [
    "## Class & 함수"
   ]
  },
  {
   "cell_type": "code",
   "execution_count": null,
   "metadata": {},
   "outputs": [],
   "source": [
    "# 모듈 함수 가져오기\n",
    "from my_first import my_function # * 모두 가져오기\n",
    "my_function()\n",
    "\n",
    "#이름 새로 지정\n",
    "import my_first as mf\n",
    "from my_first import my_function as mf\n",
    "\n",
    "# 직접 실행할 때, 임포트해서 사용할 때\n",
    "if __name == \"__main__\":\n",
    "    #Run 시 실행\n",
    "else:\n",
    "    #Import 시 실행\n",
    "\n",
    "# 함수명 앞에 __ 붙일 시 호출 x"
   ]
  },
  {
   "cell_type": "code",
   "execution_count": null,
   "metadata": {},
   "outputs": [],
   "source": [
    "class class_name():\n",
    "    #클래스 변수 생성 및 초기화\n",
    "    a = 0\n",
    "    b = 2\n",
    "    #클래스 함수 \n",
    "    def function1(self, ins_var):\n",
    "        #인스턴스 변수 생성 및 초기화\n",
    "        self.a = 4 #self는 자기자신 객체 참조, 클래스 < 객체 변수 우선\n",
    "        self.ins_var = ins_var\n",
    "        self.self_function()\n",
    "        print(self.ins_var)\n",
    "        class_name.b +=1\n",
    "    #Instance Method - 자기자신을 참조하는 함수\n",
    "    def self_function(self):\n",
    "        print(\"selffunction\")\n",
    "    #Static Method 정적메소드 - 자기자신 참조 x\n",
    "    def sta_function(abc):\n",
    "        print(abc,\"입력\")\n",
    "    #Class Method 클래스 메소드 - 클래스 전체 관리 시 사용\n",
    "    def cla_function(cls):\n",
    "        print(cls.a, cls.b)\n",
    "    \n",
    "#사용 방법은 비슷\n",
    "#객체 생성 후 .으로 변수, 함수 호출\n",
    "test = class_name()\n",
    "print(test.a)\n",
    "test.function1(1)\n",
    "print(test.a)\n",
    "class_name.sta_function(1) #static method는 class로 직접호출\n",
    "class_name.cla_function(class_name) #인자 없이는 왜 사용 안되는지? - 인자로 들어온 클래스를 참조\n",
    "print(class_name.a)\n",
    "print(class_name.b)\n",
    "\n",
    "#상속\n",
    "class second_class(class_name):\n",
    "    c = 4\n",
    "    d = 5\n",
    "    \n",
    "    def init(self):\n",
    "        super().self_function() #super = 부모클래스, self 넣지 않음\n",
    "        class_name.self_function(self) #super 쓰지 않고 상위클래스 함수 호출 (self 를 넣음)\n",
    "        print(self.a,self.b) #부모 클래스 a, b를 가져옴\n",
    "\n",
    "second = second_class()\n",
    "second.init()\n",
    "\n",
    "dir(my_first) #구조 (함수들)"
   ]
  },
  {
   "cell_type": "code",
   "execution_count": null,
   "metadata": {},
   "outputs": [],
   "source": [
    "class Car:\n",
    "    \n",
    "    count_car = 0\n",
    "    \n",
    "    def __init__(self, name, baegi, m_year):\n",
    "        self.__name = name\n",
    "        self.__baegi = baegi\n",
    "        self.__m_year = m_year\n",
    "        Car.count_car += 1\n",
    "    \n",
    "    def car_type(self):\n",
    "        if self.__baegi<1000:\n",
    "            print(\"소형\")\n",
    "        elif self.__baegi<=2000:\n",
    "            print(\"중형\")\n",
    "        else:\n",
    "            print(\"대형\")\n",
    "    \n",
    "    def check_car():\n",
    "        print(Car.count_car)\n",
    "        \n",
    "\n",
    "a = Car(\"tiboli\", 1500, 1994)\n",
    "a.car_type()\n",
    "Car.check_car()\n",
    "\n",
    "\n",
    "#함수 앞에 __사용시 접근 불가"
   ]
  },
  {
   "cell_type": "code",
   "execution_count": 8,
   "metadata": {},
   "outputs": [],
   "source": [
    "#가변인수\n",
    "def calc(op, *numbers):\n",
    "    if op == \"+\":\n",
    "        result = 0\n",
    "        for number in numbers:\n",
    "            result += number\n",
    "    return result\n",
    "print(calc(\"+\", 1,2,3,4,5))\n",
    "\n",
    "#dictionary 가변인수\n",
    "def fun(**a):\n",
    "    for i in a:\n",
    "        print(a[i])\n",
    "\n",
    "a = {\"name\":\"홍길동\",\"age\":20, \"gender\" : \"M\"}\n",
    "fun(**a)"
   ]
  },
  {
   "cell_type": "markdown",
   "metadata": {},
   "source": [
    "## OS 명령어"
   ]
  },
  {
   "cell_type": "code",
   "execution_count": null,
   "metadata": {},
   "outputs": [],
   "source": [
    "# ! 운영체제명령어\n",
    "\n",
    "!type \"testfile.txt\"\n",
    "!cd \"C:\\users\\svsta\\Documents\"\n",
    "!dir\n",
    "!cd \"..\""
   ]
  },
  {
   "cell_type": "code",
   "execution_count": null,
   "metadata": {},
   "outputs": [],
   "source": [
    "# 파이썬 파일로 저장하기\n",
    "\n",
    "%%writefile [-a] file.py #뒤에 추가, a옵션 없을 시 덮어쓰기\n",
    "#<코드불록>\n",
    "#writefile 절대주소 (확장자까지)\n",
    "\n",
    "#파이썬 코드 불러오기\n",
    "%load file.py\n",
    "\n",
    "#파이썬 코드 실행하기\n",
    "%run file.py"
   ]
  },
  {
   "cell_type": "code",
   "execution_count": null,
   "metadata": {},
   "outputs": [],
   "source": [
    "# 파이썬 파일 작성\n",
    "%%writefile C:\\users\\svsta\\my_first.py\n",
    "#들여쓰기 X\n",
    "\n",
    "def my_function():\n",
    "    print(\"this is my first\")"
   ]
  },
  {
   "cell_type": "code",
   "execution_count": null,
   "metadata": {},
   "outputs": [],
   "source": [
    "# 파이썬 파일 읽기\n",
    "!type C:\\users\\svsta\\my_first.py"
   ]
  },
  {
   "cell_type": "code",
   "execution_count": null,
   "metadata": {},
   "outputs": [],
   "source": []
  },
  {
   "cell_type": "markdown",
   "metadata": {},
   "source": [
    "## Module & Package"
   ]
  },
  {
   "cell_type": "code",
   "execution_count": null,
   "metadata": {},
   "outputs": [],
   "source": [
    "#데이터 분석 모듈 Numpy (숫자, 통계)\n",
    "\n",
    "import numpy as np\n",
    "# np.array(list) numpy list로 변환 (정수 or 실수 통일)\n",
    "# np.array([[1,2,3],[4,5,6],[7,8,9]]) #3x3행렬 \n",
    "\n",
    "# np.arange(시작, 12, step).reshape(4,3) #원소 개수와 mxn이 같아야함 .shape return (m,n)\n",
    "\n",
    "# np.linspace(시작, 끝(포함), 배열 내 원소 개수) 1~n까지 나눈 값\n",
    "# np.linspace(0,np.pi,20) #pi값 입력 시 사용\n",
    "\n",
    "# np.zeros(행, 열), np.ones(행, 열), np.eye(3) 대각선이 모두 1인 nxn 행렬 생성\n",
    "\n",
    "# 배열.astype(float) 배열 형변환 int 확인 .dtype\n",
    "\n",
    "# np.random.rand(개수,m,n) mxn 랜덤 행렬 2개 생성 (인자 2개 = m x n행렬 생성)\n",
    "# np.random.randint(시작,끝,개수)\n",
    "# np.random.randint(개수, size=(3,4))\n",
    "# np.random.randint(5,10, size=(3,4)) #시작, 끝, size\n",
    "\n",
    "#np배열로 생성 후 연산가능, 조건식 지정시 bool 배열 반환\n",
    "\n",
    "#.sum(), .mean(), .std(), .var(), .min(), .max(), .comsum(), .cumprod()\n",
    "#행렬연산 행렬곱 np.dot(A,B) / 전치행렬 A.transpose() np.transpose(A)\n",
    "#역행렬 np.linalg.inv(A), 행렬식 np.linalg.det(A)"
   ]
  },
  {
   "cell_type": "code",
   "execution_count": null,
   "metadata": {},
   "outputs": [],
   "source": [
    "#데이터 분석 모듈 Pandas (구조적 데이터 표시와 처리)\n",
    "\n",
    "import pandas as pd\n",
    "import numpy as np\n",
    "\n",
    "#Series 1차원 데이터\n",
    "s1 = pd.Series([10,\"aa\",np.nan,\"bb\",50]) #두 번째 인자로 index 배열 넣기 가능, 딕셔너리를 넣을시 key = index, value = 값\n",
    "# s1.index, s1.values, s1\n",
    "pd.date_range('2019-01-01', '2019/02/01') #periods=7, freq=\"D\" 기본값, B, W, M, BM, ... 2D : 2일씩 증가, 시간, 분단위도 가능\n",
    "\n",
    "#DataFrame 2차원 데이터\n",
    "index_list = [\"A\", \"B\", \"C\"]\n",
    "column_list = [\"aa\",\"bb\",\"cc\"]\n",
    "pd.DataFrame([[0,1,2],[4,5,6],[7,8,9]], index=index_list, columns = column_list)\n",
    "\n",
    "table_data = {\"연도\":[2015,2016], \"지사\" : [\"한국\", \"미국\"], \"고객 수 \":[200, 250]}\n",
    "df = pd.DataFrame(table_data)\n",
    "# df.index, df.columns, df.values\n",
    "\n",
    "#데이터 연산 가능\n",
    "df.mean() #열 별로 계산, axis=1 행 별로 계산\n",
    "df.std()\n",
    "\n",
    "df.describe() #평균 표춘편차 최솟값 최대값 분위수 요약\n",
    "\n",
    "# df.head(3), df.tail(3) 기본값 = 5\n",
    "# 특정 값 가져오기 df[column][row], df.loc[row][column]\n",
    "\n",
    "df.T #전치\n",
    "\n",
    "#df1.append(df2, ignore_index=True) 데이터 프레임 합칠 때 기존의 index를 무시하고 0부터 시작\n",
    "#행 추가\n",
    "\n",
    "#df1.join(df2) 열 추가\n",
    "#값 없는 곳은 NaN\n",
    "\n",
    "df1.merge(df2) #두 개의 데이터프레임에서 같은 특정 열을 기준으로 통합\n",
    "# how = left, right, outer, inner 왼쪽 데이터프레임 기준, 오른쪽, 합, 교\n",
    "# on = key\n",
    "\n",
    "#df = pd.read_csv(\"file_name\") #csv 파일 읽기\n",
    "#option : encoding=\"cp949\"(문자인코딩), sep=\" \"(구분자 기본값 comma), index_col=\"연도\" (연도값을 index로 설정)\n",
    "\n",
    "#df.to_csv(\"file name.csv\")\n",
    "#df.to_csv(\"file name.txt\", sep=\" \", encoding =\"cp949\") 텍스트파일로 저장\n",
    "#!type \"file_name\" 확인 가능\n",
    "\n",
    "def check(n):\n",
    "    if n > 360000:\n",
    "        return \"높음\"\n",
    "    else:\n",
    "        return \"낮음\"\n",
    "\n",
    "a['순이익_비교'] = a['순익'].apply(check)\n",
    "a['순이익_비교'] = a['순익'].apply(lambda n : '높음' if n >360000 else '낮음')"
   ]
  },
  {
   "cell_type": "code",
   "execution_count": null,
   "metadata": {},
   "outputs": [],
   "source": [
    "# Calendar 모듈\n",
    "import calendar\n",
    "#print(calendar.calendar(2019, m = 4))\n",
    "#print(calendar.month(2019,4))\n",
    "calendar.isleap(2001) #윤년\n",
    "\n",
    "# datetime 모듈\n",
    "import datetime\n",
    "h, m = list(map(int, input().split()))\n",
    "alarm = datetime.datetime(2000,1,1,h,m,0) - datetime.datetime(2000,1,1,0,45,0)\n",
    "H = alarm.seconds//3600\n",
    "M = int((alarm.seconds%3600)/60)\n",
    "print(H, M, sep = \" \")"
   ]
  },
  {
   "cell_type": "code",
   "execution_count": null,
   "metadata": {},
   "outputs": [],
   "source": [
    "# Random \n",
    "import random\n",
    "random.randint(min, max) #값 포함\n",
    "random.random() #0.002023\n",
    "\n",
    "#pickle\n",
    "import pickle\n",
    "with open(\"rsp.p\", \"rb\") as file:\n",
    "    total_count, win_count = pickle.load(file)\n",
    "\n",
    "with open(\"rsp.p\", \"wb\") as file:\n",
    "    pickle.dump([total_count,win_count], file)\n",
    "    \n",
    "#file\n",
    "    f.readlines() # return list\n",
    "    f.readline() # return str\n",
    "    f.write(' ')\n",
    "    f.read()\n",
    "\n",
    "import pickle\n",
    "\n",
    "name = \"홍길동\"\n",
    "address = \"서울\"\n",
    "email = \"abc@navc.do\"\n",
    "\n",
    "try:\n",
    "    with open(\"data3.p\", \"rb\") as file:\n",
    "        name = pickle.load(file)\n",
    "        address = pickle.load(file)\n",
    "        email = pickle.load(file)\n",
    "        print(name, address, email)\n",
    "except:\n",
    "    with open(\"data3.p\", \"wb\") as file:\n",
    "        pickle.dump(name, file)\n",
    "        pickle.dump(address, file)\n",
    "        pickle.dump(email, file)\n",
    "    "
   ]
  },
  {
   "cell_type": "code",
   "execution_count": null,
   "metadata": {},
   "outputs": [],
   "source": [
    "# 순열, 조합\n",
    "import itertools\n",
    "N = int(input())\n",
    "M = int(input())\n",
    "\n",
    "total = 0\n",
    "for i in range(1,M-N):\n",
    "    total += len(list(itertools.combinations(range(N+i),i)))\n",
    "    \n",
    "print(total)"
   ]
  },
  {
   "cell_type": "code",
   "execution_count": null,
   "metadata": {},
   "outputs": [],
   "source": [
    "# Crawling\n",
    "\n",
    "import requests\n",
    "from bs4 import BeautifulSoup\n",
    "import json"
   ]
  },
  {
   "cell_type": "code",
   "execution_count": null,
   "metadata": {},
   "outputs": [],
   "source": [
    "# re 모듈\n",
    "import re\n",
    "re.match('', text)\n",
    "re.search('', text)\n",
    "re.findall('', text)\n",
    "re.finditer('', text)\n",
    "\n",
    "group(), start(), end(), span()\n",
    "\n",
    "re.sub('바꿀문자', '바뀔문자', text)\n",
    "\n",
    "#정규표현식과 같이 사용"
   ]
  },
  {
   "cell_type": "code",
   "execution_count": null,
   "metadata": {},
   "outputs": [],
   "source": []
  },
  {
   "cell_type": "code",
   "execution_count": null,
   "metadata": {},
   "outputs": [],
   "source": [
    "#데이터베이스 연결\n",
    "import pymysql\n",
    "db = pymysql.connect(host='220.90.200.176', port=3306, user='w3schools', passwd='w3schools!)@(', db='leeDB', charset='utf8')\n",
    "cursor = db.cursor()\n",
    "\n",
    "# SQL 실행\n",
    "sql = '''\n",
    "    INSERT INTO students\n",
    "    VALUES ('{}', '{}', '{}', '{}')\n",
    "'''.format(name, math, scie, engl)\n",
    "\n",
    "sql = '''\n",
    "    SELECT *\n",
    "    FROM students\n",
    "'''\n",
    "\n",
    "sql = '''\n",
    "DELETE FROM students\n",
    "WHERE no = {}\n",
    "'''.format(del_num)\n",
    "\n",
    "cursor.execute(sql)\n",
    "db.commit()\n",
    "\n",
    "#select 시 commit 대신\n",
    "rs=cursor.fetchall()\n",
    "for i in rs:\n",
    "    print(\"학번 : {}, 이름 : {}, 수학 : {}, 과학 : {}, 영어 : {}\".format(i[0], i[1], i[2], i[3], i[4]))"
   ]
  },
  {
   "cell_type": "code",
   "execution_count": null,
   "metadata": {},
   "outputs": [],
   "source": []
  },
  {
   "cell_type": "code",
   "execution_count": null,
   "metadata": {},
   "outputs": [],
   "source": []
  },
  {
   "cell_type": "code",
   "execution_count": null,
   "metadata": {},
   "outputs": [],
   "source": []
  },
  {
   "cell_type": "code",
   "execution_count": null,
   "metadata": {},
   "outputs": [],
   "source": []
  },
  {
   "cell_type": "code",
   "execution_count": null,
   "metadata": {},
   "outputs": [],
   "source": []
  },
  {
   "cell_type": "code",
   "execution_count": null,
   "metadata": {},
   "outputs": [],
   "source": []
  }
 ],
 "metadata": {
  "kernelspec": {
   "display_name": "Python 3",
   "language": "python",
   "name": "python3"
  },
  "language_info": {
   "codemirror_mode": {
    "name": "ipython",
    "version": 3
   },
   "file_extension": ".py",
   "mimetype": "text/x-python",
   "name": "python",
   "nbconvert_exporter": "python",
   "pygments_lexer": "ipython3",
   "version": "3.7.6"
  }
 },
 "nbformat": 4,
 "nbformat_minor": 4
}
